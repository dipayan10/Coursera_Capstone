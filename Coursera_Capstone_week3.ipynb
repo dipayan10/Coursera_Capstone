{
  "nbformat": 4,
  "nbformat_minor": 0,
  "metadata": {
    "colab": {
      "name": "Coursera_Capstone_week3",
      "provenance": [],
      "authorship_tag": "ABX9TyOwG/ic3rnPVpOp2wxfgxFa",
      "include_colab_link": true
    },
    "kernelspec": {
      "name": "python3",
      "display_name": "Python 3"
    }
  },
  "cells": [
    {
      "cell_type": "markdown",
      "metadata": {
        "id": "view-in-github",
        "colab_type": "text"
      },
      "source": [
        "<a href=\"https://colab.research.google.com/github/dipayan10/Coursera_Capstone/blob/main/Coursera_Capstone_week3.ipynb\" target=\"_parent\"><img src=\"https://colab.research.google.com/assets/colab-badge.svg\" alt=\"Open In Colab\"/></a>"
      ]
    },
    {
      "cell_type": "markdown",
      "metadata": {
        "id": "55gatj0FWLug"
      },
      "source": [
        "# Segmenting and Clusturing neighborhoods in the city of Toronto\r\n"
      ]
    },
    {
      "cell_type": "markdown",
      "metadata": {
        "id": "Jeopjnf2Wmno"
      },
      "source": [
        "#### This notebook is the first part of the 3-part segmenting and clustering assignment in the week 3 of the Coursera Applied Data Science Capstone project.\r\n"
      ]
    },
    {
      "cell_type": "markdown",
      "metadata": {
        "id": "RLGsaWJNFTbE"
      },
      "source": [
        "#### In this notebook we scrape, download and cleanset the dataset from the wikipedia page of \"Postal codes in the city of toronto\"."
      ]
    },
    {
      "cell_type": "markdown",
      "metadata": {
        "id": "sVFozvzP2vxz"
      },
      "source": [
        "First we need to import all the necessary libraries and packages."
      ]
    },
    {
      "cell_type": "code",
      "metadata": {
        "id": "LQ9XRst4qqHY",
        "colab": {
          "base_uri": "https://localhost:8080/"
        },
        "outputId": "30e46f14-00ca-49a3-f0e9-ab31665ed74f"
      },
      "source": [
        "import numpy as np # library to handle data in a vectorized manner\n",
        " \n",
        "import pandas as pd # library for data analsysis\n",
        "pd.set_option('display.max_columns', None)\n",
        "pd.set_option('display.max_rows', None)\n",
        " \n",
        "import json # library to handle JSON files\n",
        " \n",
        "#!conda install -c conda-forge geopy --yes # uncomment this line if you haven't completed the Foursquare API lab\n",
        "from geopy.geocoders import Nominatim # convert an address into latitude and longitude values\n",
        " \n",
        "import requests # library to handle requests\n",
        "from pandas.io.json import json_normalize # tranform JSON file into a pandas dataframe\n",
        " \n",
        "# Matplotlib and associated plotting modules\n",
        "import matplotlib.cm as cm\n",
        "import matplotlib.colors as colors\n",
        " \n",
        "# import k-means from clustering stage\n",
        "from sklearn.cluster import KMeans\n",
        " \n",
        "#!conda install -c conda-forge folium=0.5.0 --yes # uncomment this line if you haven't completed the Foursquare API lab\n",
        "import folium # map rendering library\n",
        " \n",
        "print('Libraries imported.')"
      ],
      "execution_count": 8,
      "outputs": [
        {
          "output_type": "stream",
          "text": [
            "Libraries imported.\n"
          ],
          "name": "stdout"
        }
      ]
    },
    {
      "cell_type": "markdown",
      "metadata": {
        "id": "laWNUDtz3IVF"
      },
      "source": [
        "Then we import the Requests library used specifically to handle requests and the Beautiful Soup library which is used to parse HTML documents and scrape web pages."
      ]
    },
    {
      "cell_type": "code",
      "metadata": {
        "id": "D-uI_C1kf4gD"
      },
      "source": [
        "import requests # library to handle requests\n",
        "from bs4 import BeautifulSoup # library to parse HTML documents"
      ],
      "execution_count": 9,
      "outputs": []
    },
    {
      "cell_type": "markdown",
      "metadata": {
        "id": "-J8kuPrkEwCL"
      },
      "source": [
        "First we store the wikipedia url in the 'wikiurl' variable. Then we send a GET request to the Wikipedia URL whose table needs to be scraped and store the HTML response in a variable. It is not legal to scrape any website, so we check the status code. 200 shows that you can go ahead and download it."
      ]
    },
    {
      "cell_type": "code",
      "metadata": {
        "id": "u-uIgvApWBHk",
        "colab": {
          "base_uri": "https://localhost:8080/"
        },
        "outputId": "cff00a45-9e2a-41f9-f1fb-16525fae3e0a"
      },
      "source": [
        "# get the response in the form of html\n",
        "wikiurl= \"https://en.m.wikipedia.org/wiki/List_of_postal_codes_of_Canada:_M\"\n",
        "table_class = \"wikitale sortable jquery-tablesorter\"\n",
        "response= requests.get(wikiurl)\n",
        "print(response.status_code)"
      ],
      "execution_count": 10,
      "outputs": [
        {
          "output_type": "stream",
          "text": [
            "200\n"
          ],
          "name": "stdout"
        }
      ]
    },
    {
      "cell_type": "markdown",
      "metadata": {
        "id": "9Lgt8lzkEGP6"
      },
      "source": [
        "Next we create a BeautifulSoup object and using the find() method extract the relevant information,which in our case is the \"table\" tag. There can be many tables in a single Wikipedia page, so to specify the table we also pass the “class” or the “id” attribute of the \"table\" tag. Then we create the \"soup\" variable which contains the Beautiful Soup function and the \"canada_table\" variable which contains the 'find' method to find the required table in the html parser tree."
      ]
    },
    {
      "cell_type": "code",
      "metadata": {
        "id": "LhW0_CHiiMEx"
      },
      "source": [
        "# parse data from the html into a beautifulsoup object\r\n",
        "soup = BeautifulSoup(response.text, 'html.parser')\r\n",
        "canada_table=soup.find('table',{'class':\"wikitable\"})"
      ],
      "execution_count": 11,
      "outputs": []
    },
    {
      "cell_type": "markdown",
      "metadata": {
        "id": "b5_5jPahbdRq"
      },
      "source": [
        "We read the HTML table into a list of dataframe object using read_html(). This returns a list. Next we convert the list into a DataFrame."
      ]
    },
    {
      "cell_type": "code",
      "metadata": {
        "id": "0C0jGC4iiT0V",
        "colab": {
          "base_uri": "https://localhost:8080/",
          "height": 195
        },
        "outputId": "fed99854-10ce-4886-aea3-450fa872cc48"
      },
      "source": [
        "df=pd.read_html(str(canada_table))\r\n",
        "# convert list to dataframe\r\n",
        "df=pd.DataFrame(df[0])\r\n",
        "df.head()\r\n"
      ],
      "execution_count": 12,
      "outputs": [
        {
          "output_type": "execute_result",
          "data": {
            "text/html": [
              "<div>\n",
              "<style scoped>\n",
              "    .dataframe tbody tr th:only-of-type {\n",
              "        vertical-align: middle;\n",
              "    }\n",
              "\n",
              "    .dataframe tbody tr th {\n",
              "        vertical-align: top;\n",
              "    }\n",
              "\n",
              "    .dataframe thead th {\n",
              "        text-align: right;\n",
              "    }\n",
              "</style>\n",
              "<table border=\"1\" class=\"dataframe\">\n",
              "  <thead>\n",
              "    <tr style=\"text-align: right;\">\n",
              "      <th></th>\n",
              "      <th>Postal Code</th>\n",
              "      <th>Borough</th>\n",
              "      <th>Neighbourhood</th>\n",
              "    </tr>\n",
              "  </thead>\n",
              "  <tbody>\n",
              "    <tr>\n",
              "      <th>0</th>\n",
              "      <td>M1A</td>\n",
              "      <td>Not assigned</td>\n",
              "      <td>Not assigned</td>\n",
              "    </tr>\n",
              "    <tr>\n",
              "      <th>1</th>\n",
              "      <td>M2A</td>\n",
              "      <td>Not assigned</td>\n",
              "      <td>Not assigned</td>\n",
              "    </tr>\n",
              "    <tr>\n",
              "      <th>2</th>\n",
              "      <td>M3A</td>\n",
              "      <td>North York</td>\n",
              "      <td>Parkwoods</td>\n",
              "    </tr>\n",
              "    <tr>\n",
              "      <th>3</th>\n",
              "      <td>M4A</td>\n",
              "      <td>North York</td>\n",
              "      <td>Victoria Village</td>\n",
              "    </tr>\n",
              "    <tr>\n",
              "      <th>4</th>\n",
              "      <td>M5A</td>\n",
              "      <td>Downtown Toronto</td>\n",
              "      <td>Regent Park, Harbourfront</td>\n",
              "    </tr>\n",
              "  </tbody>\n",
              "</table>\n",
              "</div>"
            ],
            "text/plain": [
              "  Postal Code           Borough              Neighbourhood\n",
              "0         M1A      Not assigned               Not assigned\n",
              "1         M2A      Not assigned               Not assigned\n",
              "2         M3A        North York                  Parkwoods\n",
              "3         M4A        North York           Victoria Village\n",
              "4         M5A  Downtown Toronto  Regent Park, Harbourfront"
            ]
          },
          "metadata": {
            "tags": []
          },
          "execution_count": 12
        }
      ]
    },
    {
      "cell_type": "markdown",
      "metadata": {
        "id": "m5pUI_QzwuDO"
      },
      "source": [
        "Then we use the drop duplicate method to remove the \"not assigned\" rows."
      ]
    },
    {
      "cell_type": "code",
      "metadata": {
        "id": "U3EVkIvDiUV7",
        "colab": {
          "base_uri": "https://localhost:8080/",
          "height": 343
        },
        "outputId": "87b08dbc-9f1e-4c2b-d87f-ae3d1da5ee2a"
      },
      "source": [
        "df = df.drop_duplicates(subset=['Neighbourhood'], keep=False, ignore_index=True)\r\n",
        "df.head(10)"
      ],
      "execution_count": 13,
      "outputs": [
        {
          "output_type": "execute_result",
          "data": {
            "text/html": [
              "<div>\n",
              "<style scoped>\n",
              "    .dataframe tbody tr th:only-of-type {\n",
              "        vertical-align: middle;\n",
              "    }\n",
              "\n",
              "    .dataframe tbody tr th {\n",
              "        vertical-align: top;\n",
              "    }\n",
              "\n",
              "    .dataframe thead th {\n",
              "        text-align: right;\n",
              "    }\n",
              "</style>\n",
              "<table border=\"1\" class=\"dataframe\">\n",
              "  <thead>\n",
              "    <tr style=\"text-align: right;\">\n",
              "      <th></th>\n",
              "      <th>Postal Code</th>\n",
              "      <th>Borough</th>\n",
              "      <th>Neighbourhood</th>\n",
              "    </tr>\n",
              "  </thead>\n",
              "  <tbody>\n",
              "    <tr>\n",
              "      <th>0</th>\n",
              "      <td>M3A</td>\n",
              "      <td>North York</td>\n",
              "      <td>Parkwoods</td>\n",
              "    </tr>\n",
              "    <tr>\n",
              "      <th>1</th>\n",
              "      <td>M4A</td>\n",
              "      <td>North York</td>\n",
              "      <td>Victoria Village</td>\n",
              "    </tr>\n",
              "    <tr>\n",
              "      <th>2</th>\n",
              "      <td>M5A</td>\n",
              "      <td>Downtown Toronto</td>\n",
              "      <td>Regent Park, Harbourfront</td>\n",
              "    </tr>\n",
              "    <tr>\n",
              "      <th>3</th>\n",
              "      <td>M6A</td>\n",
              "      <td>North York</td>\n",
              "      <td>Lawrence Manor, Lawrence Heights</td>\n",
              "    </tr>\n",
              "    <tr>\n",
              "      <th>4</th>\n",
              "      <td>M7A</td>\n",
              "      <td>Downtown Toronto</td>\n",
              "      <td>Queen's Park, Ontario Provincial Government</td>\n",
              "    </tr>\n",
              "    <tr>\n",
              "      <th>5</th>\n",
              "      <td>M9A</td>\n",
              "      <td>Etobicoke</td>\n",
              "      <td>Islington Avenue, Humber Valley Village</td>\n",
              "    </tr>\n",
              "    <tr>\n",
              "      <th>6</th>\n",
              "      <td>M1B</td>\n",
              "      <td>Scarborough</td>\n",
              "      <td>Malvern, Rouge</td>\n",
              "    </tr>\n",
              "    <tr>\n",
              "      <th>7</th>\n",
              "      <td>M4B</td>\n",
              "      <td>East York</td>\n",
              "      <td>Parkview Hill, Woodbine Gardens</td>\n",
              "    </tr>\n",
              "    <tr>\n",
              "      <th>8</th>\n",
              "      <td>M5B</td>\n",
              "      <td>Downtown Toronto</td>\n",
              "      <td>Garden District, Ryerson</td>\n",
              "    </tr>\n",
              "    <tr>\n",
              "      <th>9</th>\n",
              "      <td>M6B</td>\n",
              "      <td>North York</td>\n",
              "      <td>Glencairn</td>\n",
              "    </tr>\n",
              "  </tbody>\n",
              "</table>\n",
              "</div>"
            ],
            "text/plain": [
              "  Postal Code           Borough                                Neighbourhood\n",
              "0         M3A        North York                                    Parkwoods\n",
              "1         M4A        North York                             Victoria Village\n",
              "2         M5A  Downtown Toronto                    Regent Park, Harbourfront\n",
              "3         M6A        North York             Lawrence Manor, Lawrence Heights\n",
              "4         M7A  Downtown Toronto  Queen's Park, Ontario Provincial Government\n",
              "5         M9A         Etobicoke      Islington Avenue, Humber Valley Village\n",
              "6         M1B       Scarborough                               Malvern, Rouge\n",
              "7         M4B         East York              Parkview Hill, Woodbine Gardens\n",
              "8         M5B  Downtown Toronto                     Garden District, Ryerson\n",
              "9         M6B        North York                                    Glencairn"
            ]
          },
          "metadata": {
            "tags": []
          },
          "execution_count": 13
        }
      ]
    },
    {
      "cell_type": "code",
      "metadata": {
        "id": "JmaVnJUBiU0L",
        "colab": {
          "base_uri": "https://localhost:8080/"
        },
        "outputId": "e2ec1fd6-464d-49c2-d8b6-b1291992204e"
      },
      "source": [
        "df.shape"
      ],
      "execution_count": 14,
      "outputs": [
        {
          "output_type": "execute_result",
          "data": {
            "text/plain": [
              "(97, 3)"
            ]
          },
          "metadata": {
            "tags": []
          },
          "execution_count": 14
        }
      ]
    }
  ]
}