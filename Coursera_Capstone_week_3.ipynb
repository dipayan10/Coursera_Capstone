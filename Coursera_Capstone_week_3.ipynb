{
  "nbformat": 4,
  "nbformat_minor": 0,
  "metadata": {
    "colab": {
      "name": "Coursera_Capstone_week_3",
      "provenance": []
    },
    "kernelspec": {
      "name": "python3",
      "display_name": "Python 3"
    }
  },
  "cells": [
    {
      "cell_type": "markdown",
      "metadata": {
        "id": "55gatj0FWLug"
      },
      "source": [
        "# Segmenting and Clusturing neighborhoods in the city of Toronto\r\n"
      ]
    },
    {
      "cell_type": "markdown",
      "metadata": {
        "id": "Jeopjnf2Wmno"
      },
      "source": [
        "#### This notebook is the first part of the 3-part segmenting and clustering assignment in the week 3 of the Coursera Applied Data Science Capstone project.\r\n"
      ]
    },
    {
      "cell_type": "markdown",
      "metadata": {
        "id": "RLGsaWJNFTbE"
      },
      "source": [
        "#### In this notebook we scrape, download and cleanset the dataset from the wikipedia page of \"Postal codes in the city of toronto\"."
      ]
    },
    {
      "cell_type": "markdown",
      "metadata": {
        "id": "sVFozvzP2vxz"
      },
      "source": [
        "First we need to import all the necessary libraries and packages."
      ]
    },
    {
      "cell_type": "code",
      "metadata": {
        "id": "LQ9XRst4qqHY",
        "colab": {
          "base_uri": "https://localhost:8080/"
        },
        "outputId": "86b8d3fa-bd96-4503-bbce-4fa6f868493c"
      },
      "source": [
        "import numpy as np # library to handle data in a vectorized manner\n",
        " \n",
        "import pandas as pd # library for data analsysis\n",
        "pd.set_option('display.max_columns', None)\n",
        "pd.set_option('display.max_rows', None)\n",
        " \n",
        "import json # library to handle JSON files\n",
        " \n",
        "#!conda install -c conda-forge geopy --yes # uncomment this line if you haven't completed the Foursquare API lab\n",
        "from geopy.geocoders import Nominatim # convert an address into latitude and longitude values\n",
        " \n",
        "import requests # library to handle requests\n",
        "from pandas.io.json import json_normalize # tranform JSON file into a pandas dataframe\n",
        " \n",
        "# Matplotlib and associated plotting modules\n",
        "import matplotlib.cm as cm\n",
        "import matplotlib.colors as colors\n",
        " \n",
        "# import k-means from clustering stage\n",
        "from sklearn.cluster import KMeans\n",
        " \n",
        "#!conda install -c conda-forge folium=0.5.0 --yes # uncomment this line if you haven't completed the Foursquare API lab\n",
        "import folium # map rendering library\n",
        " \n",
        "print('Libraries imported.')"
      ],
      "execution_count": null,
      "outputs": [
        {
          "output_type": "stream",
          "text": [
            "Libraries imported.\n"
          ],
          "name": "stdout"
        }
      ]
    },
    {
      "cell_type": "markdown",
      "metadata": {
        "id": "laWNUDtz3IVF"
      },
      "source": [
        "Then we import the Requests library used specifically to handle requests and the Beautiful Soup library which is used to parse HTML documents and scrape web pages."
      ]
    },
    {
      "cell_type": "code",
      "metadata": {
        "id": "D-uI_C1kf4gD"
      },
      "source": [
        "import requests # library to handle requests\n",
        "from bs4 import BeautifulSoup # library to parse HTML documents"
      ],
      "execution_count": null,
      "outputs": []
    },
    {
      "cell_type": "markdown",
      "metadata": {
        "id": "-J8kuPrkEwCL"
      },
      "source": [
        "First we store the wikipedia url in the 'wikiurl' variable. Then we send a GET request to the Wikipedia URL whose table needs to be scraped and store the HTML response in a variable. It is not legal to scrape any website, so we check the status code. 200 shows that you can go ahead and download it."
      ]
    },
    {
      "cell_type": "code",
      "metadata": {
        "id": "u-uIgvApWBHk",
        "colab": {
          "base_uri": "https://localhost:8080/"
        },
        "outputId": "b50d13c1-01e9-4e01-e997-0df33e7e97ea"
      },
      "source": [
        "# get the response in the form of html\n",
        "wikiurl= \"https://en.m.wikipedia.org/wiki/List_of_postal_codes_of_Canada:_M\"\n",
        "table_class = \"wikitale sortable jquery-tablesorter\"\n",
        "response= requests.get(wikiurl)\n",
        "print(response.status_code)"
      ],
      "execution_count": null,
      "outputs": [
        {
          "output_type": "stream",
          "text": [
            "200\n"
          ],
          "name": "stdout"
        }
      ]
    },
    {
      "cell_type": "markdown",
      "metadata": {
        "id": "9Lgt8lzkEGP6"
      },
      "source": [
        "Next we create a BeautifulSoup object and using the find() method extract the relevant information,which in our case is the \"table\" tag. There can be many tables in a single Wikipedia page, so to specify the table we also pass the “class” or the “id” attribute of the \"table\" tag. Then we create the \"soup\" variable which contains the Beautiful Soup function and the \"table\" variable which contains the find method to find the required in the html parser tree."
      ]
    },
    {
      "cell_type": "code",
      "metadata": {
        "id": "LhW0_CHiiMEx"
      },
      "source": [
        "# parse data from the html into a beautifulsoup object\r\n",
        "soup = BeautifulSoup(response.text, 'html.parser')\r\n",
        "table=soup.find('table',{'class':\"wikitable\"})"
      ],
      "execution_count": null,
      "outputs": []
    },
    {
      "cell_type": "markdown",
      "metadata": {
        "id": "b5_5jPahbdRq"
      },
      "source": [
        "We read the HTML table into a list of dataframe object using read_html(). This returns a list. Next we convert the list into a DataFrame."
      ]
    },
    {
      "cell_type": "code",
      "metadata": {
        "id": "0C0jGC4iiT0V",
        "colab": {
          "base_uri": "https://localhost:8080/",
          "height": 195
        },
        "outputId": "51c17ae1-53de-485a-b5ba-47d6bcf946b9"
      },
      "source": [
        "df=pd.read_html(str(indiatable))\r\n",
        "# convert list to dataframe\r\n",
        "df=pd.DataFrame(df[0])\r\n",
        "df.head()\r\n"
      ],
      "execution_count": null,
      "outputs": [
        {
          "output_type": "execute_result",
          "data": {
            "text/html": [
              "<div>\n",
              "<style scoped>\n",
              "    .dataframe tbody tr th:only-of-type {\n",
              "        vertical-align: middle;\n",
              "    }\n",
              "\n",
              "    .dataframe tbody tr th {\n",
              "        vertical-align: top;\n",
              "    }\n",
              "\n",
              "    .dataframe thead th {\n",
              "        text-align: right;\n",
              "    }\n",
              "</style>\n",
              "<table border=\"1\" class=\"dataframe\">\n",
              "  <thead>\n",
              "    <tr style=\"text-align: right;\">\n",
              "      <th></th>\n",
              "      <th>Postal Code</th>\n",
              "      <th>Borough</th>\n",
              "      <th>Neighbourhood</th>\n",
              "    </tr>\n",
              "  </thead>\n",
              "  <tbody>\n",
              "    <tr>\n",
              "      <th>0</th>\n",
              "      <td>M1A</td>\n",
              "      <td>Not assigned</td>\n",
              "      <td>Not assigned</td>\n",
              "    </tr>\n",
              "    <tr>\n",
              "      <th>1</th>\n",
              "      <td>M2A</td>\n",
              "      <td>Not assigned</td>\n",
              "      <td>Not assigned</td>\n",
              "    </tr>\n",
              "    <tr>\n",
              "      <th>2</th>\n",
              "      <td>M3A</td>\n",
              "      <td>North York</td>\n",
              "      <td>Parkwoods</td>\n",
              "    </tr>\n",
              "    <tr>\n",
              "      <th>3</th>\n",
              "      <td>M4A</td>\n",
              "      <td>North York</td>\n",
              "      <td>Victoria Village</td>\n",
              "    </tr>\n",
              "    <tr>\n",
              "      <th>4</th>\n",
              "      <td>M5A</td>\n",
              "      <td>Downtown Toronto</td>\n",
              "      <td>Regent Park, Harbourfront</td>\n",
              "    </tr>\n",
              "  </tbody>\n",
              "</table>\n",
              "</div>"
            ],
            "text/plain": [
              "  Postal Code           Borough              Neighbourhood\n",
              "0         M1A      Not assigned               Not assigned\n",
              "1         M2A      Not assigned               Not assigned\n",
              "2         M3A        North York                  Parkwoods\n",
              "3         M4A        North York           Victoria Village\n",
              "4         M5A  Downtown Toronto  Regent Park, Harbourfront"
            ]
          },
          "metadata": {
            "tags": []
          },
          "execution_count": 5
        }
      ]
    },
    {
      "cell_type": "markdown",
      "metadata": {
        "id": "m5pUI_QzwuDO"
      },
      "source": [
        "Then we use the drop duplicate method to remove the \"not assigned\" rows."
      ]
    },
    {
      "cell_type": "code",
      "metadata": {
        "id": "U3EVkIvDiUV7",
        "colab": {
          "base_uri": "https://localhost:8080/",
          "height": 195
        },
        "outputId": "015458a4-ad96-4b8f-863a-0e99eff96284"
      },
      "source": [
        "df = df.drop_duplicates(subset=['Neighbourhood'], keep=False, ignore_index=True)\r\n",
        "df.head()"
      ],
      "execution_count": null,
      "outputs": [
        {
          "output_type": "execute_result",
          "data": {
            "text/html": [
              "<div>\n",
              "<style scoped>\n",
              "    .dataframe tbody tr th:only-of-type {\n",
              "        vertical-align: middle;\n",
              "    }\n",
              "\n",
              "    .dataframe tbody tr th {\n",
              "        vertical-align: top;\n",
              "    }\n",
              "\n",
              "    .dataframe thead th {\n",
              "        text-align: right;\n",
              "    }\n",
              "</style>\n",
              "<table border=\"1\" class=\"dataframe\">\n",
              "  <thead>\n",
              "    <tr style=\"text-align: right;\">\n",
              "      <th></th>\n",
              "      <th>Postal Code</th>\n",
              "      <th>Borough</th>\n",
              "      <th>Neighbourhood</th>\n",
              "    </tr>\n",
              "  </thead>\n",
              "  <tbody>\n",
              "    <tr>\n",
              "      <th>0</th>\n",
              "      <td>M3A</td>\n",
              "      <td>North York</td>\n",
              "      <td>Parkwoods</td>\n",
              "    </tr>\n",
              "    <tr>\n",
              "      <th>1</th>\n",
              "      <td>M4A</td>\n",
              "      <td>North York</td>\n",
              "      <td>Victoria Village</td>\n",
              "    </tr>\n",
              "    <tr>\n",
              "      <th>2</th>\n",
              "      <td>M5A</td>\n",
              "      <td>Downtown Toronto</td>\n",
              "      <td>Regent Park, Harbourfront</td>\n",
              "    </tr>\n",
              "    <tr>\n",
              "      <th>3</th>\n",
              "      <td>M6A</td>\n",
              "      <td>North York</td>\n",
              "      <td>Lawrence Manor, Lawrence Heights</td>\n",
              "    </tr>\n",
              "    <tr>\n",
              "      <th>4</th>\n",
              "      <td>M7A</td>\n",
              "      <td>Downtown Toronto</td>\n",
              "      <td>Queen's Park, Ontario Provincial Government</td>\n",
              "    </tr>\n",
              "  </tbody>\n",
              "</table>\n",
              "</div>"
            ],
            "text/plain": [
              "  Postal Code           Borough                                Neighbourhood\n",
              "0         M3A        North York                                    Parkwoods\n",
              "1         M4A        North York                             Victoria Village\n",
              "2         M5A  Downtown Toronto                    Regent Park, Harbourfront\n",
              "3         M6A        North York             Lawrence Manor, Lawrence Heights\n",
              "4         M7A  Downtown Toronto  Queen's Park, Ontario Provincial Government"
            ]
          },
          "metadata": {
            "tags": []
          },
          "execution_count": 6
        }
      ]
    },
    {
      "cell_type": "code",
      "metadata": {
        "id": "JmaVnJUBiU0L",
        "colab": {
          "base_uri": "https://localhost:8080/"
        },
        "outputId": "f93ed5e5-b19c-4070-f9e4-577097d1a67c"
      },
      "source": [
        "df.shape"
      ],
      "execution_count": null,
      "outputs": [
        {
          "output_type": "execute_result",
          "data": {
            "text/plain": [
              "(97, 3)"
            ]
          },
          "metadata": {
            "tags": []
          },
          "execution_count": 7
        }
      ]
    }
  ]
}