{
  "nbformat": 4,
  "nbformat_minor": 0,
  "metadata": {
    "colab": {
      "name": "Coursera Capstone project notebook.ipynb",
      "provenance": [],
      "authorship_tag": "ABX9TyOwqazrUbdu66KhQQ4rsc3J",
      "include_colab_link": true
    },
    "kernelspec": {
      "name": "python3",
      "display_name": "Python 3"
    }
  },
  "cells": [
    {
      "cell_type": "markdown",
      "metadata": {
        "id": "view-in-github",
        "colab_type": "text"
      },
      "source": [
        "<a href=\"https://colab.research.google.com/github/dipayan10/Coursera_Capstone/blob/main/Coursera_Capstone_project_notebook.ipynb\" target=\"_parent\"><img src=\"https://colab.research.google.com/assets/colab-badge.svg\" alt=\"Open In Colab\"/></a>"
      ]
    },
    {
      "cell_type": "markdown",
      "metadata": {
        "id": "RzJPcR6yZM25"
      },
      "source": [
        "# Coursera Capstone Project"
      ]
    },
    {
      "cell_type": "markdown",
      "metadata": {
        "id": "hPX2Q6FUhCcf"
      },
      "source": [
        "### this notebook will be primarily used for designing the Coursera Capstone project which is a part of the IBM professional data science certificate."
      ]
    },
    {
      "cell_type": "code",
      "metadata": {
        "id": "LMcvS1c_h0oZ"
      },
      "source": [
        "import pandas as pd\n",
        "import numpy as np"
      ],
      "execution_count": null,
      "outputs": []
    },
    {
      "cell_type": "code",
      "metadata": {
        "colab": {
          "base_uri": "https://localhost:8080/"
        },
        "id": "7Fgp86gctpAj",
        "outputId": "2470fb05-d5fc-44c1-800a-1785e80553e3"
      },
      "source": [
        "print(\"Hello Capstone Project Course!\")"
      ],
      "execution_count": null,
      "outputs": [
        {
          "output_type": "stream",
          "text": [
            "Hello Capstone Project Course!\n"
          ],
          "name": "stdout"
        }
      ]
    }
  ]
}